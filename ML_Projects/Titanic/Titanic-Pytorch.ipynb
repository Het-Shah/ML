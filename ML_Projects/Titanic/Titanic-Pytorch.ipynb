{
 "cells": [
  {
   "cell_type": "code",
   "execution_count": 147,
   "metadata": {},
   "outputs": [],
   "source": [
    "#importing libraries\n",
    "import torch\n",
    "import pandas as pd\n",
    "import numpy as np\n",
    "import matplotlib.pyplot as plt\n",
    "import torch.nn as nn\n",
    "import torch.nn.functional as F\n",
    "import torch.optim as optim\n",
    "from torch.autograd import Variable\n",
    "from sklearn import preprocessing\n",
    "from sklearn.cross_validation import train_test_split\n",
    "%matplotlib inline\n",
    "\n",
    "dtype = torch.FloatTensor\n",
    "\n",
    "#function to impute the age feature\n",
    "def impute_age(cols):\n",
    "    Age=cols[0]\n",
    "    Pclass=cols[1]\n",
    "    if pd.isnull(Age) :\n",
    "        if Pclass==1:\n",
    "            return 37\n",
    "        elif Pclass==2:\n",
    "            return 29\n",
    "        else:\n",
    "            return 24\n",
    "    else:\n",
    "        return Age\n",
    "\n",
    "#cleaning of the dataset\n",
    "train=pd.read_csv('train.csv')\n",
    "train['Age'] = train[['Age','Pclass']].apply(impute_age,axis=1)\n",
    "train.drop('Cabin',axis=1,inplace=True)\n",
    "sex=pd.get_dummies(train['Sex'],drop_first=True)\n",
    "embarked=pd.get_dummies(train['Embarked'],drop_first=True)\n",
    "pclass=pd.get_dummies(train['Pclass'],drop_first=True)\n",
    "train=pd.concat([train,sex,embarked,pclass],axis=1)\n",
    "train.drop(['Sex','Embarked','Name','Ticket','Pclass'],axis=1,inplace=True)\n",
    "\n",
    "#defining features and output matrices \n",
    "X=train[['Age', 'SibSp', 'Parch', 'Fare', 'male', 'Q', 'S', 2, 3]]\n",
    "Y=train[['Survived']]\n",
    "X=preprocessing.scale(X)\n",
    "X_train,X_test,Y_train,Y_test=train_test_split(X,Y,test_size=0.2,random_state=121)\n",
    "X_train=torch.FloatTensor(X_train)\n",
    "X_test=torch.FloatTensor(X_test)\n",
    "Y_train=Y_train.as_matrix()\n",
    "Y_test=Y_test.as_matrix()\n",
    "Y_train=torch.FloatTensor(Y_train)\n",
    "Y_test=torch.FloatTensor(Y_test)\n",
    "\n",
    "#class for forward propagation\n",
    "class Net(nn.Module):\n",
    "    def __init__(self):\n",
    "        super(Net, self).__init__()\n",
    "        self.fc1 = nn.Linear(9, 6)\n",
    "        self.fc2 = nn.Linear(6, 1)    #1 hidden layer\n",
    "#         self.fc3 = nn.Linear(6, 1)\n",
    "\n",
    "    def forward(self, x):\n",
    "        x = F.relu(self.fc1(x))       #using relu activation function in the hidden layer\n",
    "        x = F.sigmoid(self.fc2(x))    #sigmoid function for final output layer\n",
    "#         x = F.sigmoid(self.fc3(x))\n",
    "        return x\n",
    "\n",
    "net=Net()    #object of the class\n",
    "# print(net)\n",
    "\n",
    "criterion = nn.BCELoss()               #loss function\n",
    "optimizer = optim.SGD(net.parameters(), lr=0.5)  #Using Stocastic Gradient Descent method for updating parameters\n",
    "i=0\n",
    "\n"
   ]
  },
  {
   "cell_type": "code",
   "execution_count": 148,
   "metadata": {},
   "outputs": [],
   "source": [
    "for epoch in range(12000):  # loop over the dataset multiple times\n",
    "    running_loss = 0.0\n",
    "    \n",
    "    # get the inputs\n",
    "    inputs=X_train\n",
    "    labels=Y_train\n",
    "#     print(inputs)\n",
    "#     print(y_train)\n",
    "    \n",
    "    # wrap them in Variable\n",
    "    x=Variable(inputs)\n",
    "    y=Variable(labels)\n",
    "    # zero the parameter gradients\n",
    "    optimizer.zero_grad()\n",
    "    \n",
    "    # forward + backward + optimize\n",
    "    outputs = net(x)\n",
    "#     print(outputs)\n",
    "#     print(y)\n",
    "    loss = criterion(outputs, y)\n",
    "    loss.backward()\n",
    "    optimizer.step()\n",
    "#     print(loss)"
   ]
  },
  {
   "cell_type": "code",
   "execution_count": 149,
   "metadata": {},
   "outputs": [],
   "source": [
    "X_t=Variable(X_test)\n",
    "pred=net(X_t)\n",
    "pred.shape\n",
    "pred.data.numpy()     \n",
    "for i in range(179):    #predicting for the test split\n",
    "    if pred.data.numpy()[i][0]>=0.5:\n",
    "        pred.data.numpy()[i][0]=1\n",
    "    else:\n",
    "        pred.data.numpy()[i][0]=0\n",
    "# print(pred)"
   ]
  },
  {
   "cell_type": "code",
   "execution_count": 150,
   "metadata": {},
   "outputs": [
    {
     "name": "stdout",
     "output_type": "stream",
     "text": [
      "0.8212290502793296\n"
     ]
    }
   ],
   "source": [
    "ac=(Y_test==pred.data).sum()/179   #checking the accuracy of the model\n",
    "print(ac)"
   ]
  }
 ],
 "metadata": {
  "kernelspec": {
   "display_name": "Python 3",
   "language": "python",
   "name": "python3"
  },
  "language_info": {
   "codemirror_mode": {
    "name": "ipython",
    "version": 3
   },
   "file_extension": ".py",
   "mimetype": "text/x-python",
   "name": "python",
   "nbconvert_exporter": "python",
   "pygments_lexer": "ipython3",
   "version": "3.6.3"
  }
 },
 "nbformat": 4,
 "nbformat_minor": 2
}
