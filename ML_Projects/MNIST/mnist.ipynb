{
 "cells": [
  {
   "cell_type": "code",
   "execution_count": 1,
   "metadata": {},
   "outputs": [
    {
     "name": "stderr",
     "output_type": "stream",
     "text": [
      "D:\\anaconda3\\lib\\site-packages\\h5py\\__init__.py:34: FutureWarning: Conversion of the second argument of issubdtype from `float` to `np.floating` is deprecated. In future, it will be treated as `np.float64 == np.dtype(float).type`.\n",
      "  from ._conv import register_converters as _register_converters\n"
     ]
    },
    {
     "name": "stdout",
     "output_type": "stream",
     "text": [
      "Extracting MNIST_data/train-images-idx3-ubyte.gz\n",
      "Extracting MNIST_data/train-labels-idx1-ubyte.gz\n",
      "Extracting MNIST_data/t10k-images-idx3-ubyte.gz\n",
      "Extracting MNIST_data/t10k-labels-idx1-ubyte.gz\n"
     ]
    }
   ],
   "source": [
    "import tensorflow as tf\n",
    "from tensorflow.examples.tutorials.mnist import input_data\n",
    "mnist = input_data.read_data_sets(\"MNIST_data/\", one_hot=True)"
   ]
  },
  {
   "cell_type": "code",
   "execution_count": 2,
   "metadata": {
    "collapsed": true
   },
   "outputs": [],
   "source": [
    "def cnn(x):\n",
    "    x_image=tf.reshape(x, [-1, 28, 28, 1])\n",
    "    #Convolutional LAYER 1\n",
    "    #\n",
    "    #Initialising weights and biases\n",
    "    d_w1=tf.Variable(tf.truncated_normal([5,5,1,32],stddev=0.2))\n",
    "    d_b1=tf.Variable(tf.constant(0.1,shape=[32]))\n",
    "    #Convolving\n",
    "    d1=tf.nn.conv2d(input=x_image,filter=d_w1,strides=[1,1,1,1],padding=\"SAME\")\n",
    "    #Adding Biases\n",
    "    d1+=d_b1\n",
    "    #Non Linear activation layer\n",
    "    d1=tf.nn.relu(d1)\n",
    "    #Using max pool for pooling layer\n",
    "    d1=tf.nn.max_pool(d1,ksize=[1,2,2,1],strides=[1,2,2,1],padding=\"SAME\")\n",
    "    #Convolutional LAYER 2\n",
    "    d_w2=tf.Variable(tf.truncated_normal([5,5,32,64],stddev=0.2))\n",
    "    d_b2=tf.Variable(tf.constant(0.1,shape=[64]))\n",
    "    d2=tf.nn.conv2d(input=d1,filter=d_w2,strides=[1,1,1,1],padding=\"SAME\")\n",
    "    d2+=d_b2\n",
    "    d2=tf.nn.relu(d2)\n",
    "    d2=tf.nn.max_pool(d2,ksize=[1,2,2,1],strides=[1,2,2,1],padding=\"SAME\")\n",
    "    #Fully Connected Layer 1\n",
    "    d_w3=tf.Variable(tf.truncated_normal([7*7*64,1024],stddev=0.2))\n",
    "    d_b3=tf.Variable(tf.constant(0.1,shape=[1024]))\n",
    "    d3=tf.reshape(d2,[-1,7*7*64])\n",
    "    d3=tf.matmul(d3,d_w3)\n",
    "    d3+=d_b3\n",
    "    d3=tf.nn.relu(d3)\n",
    "    keep_prob=tf.placeholder(tf.float32)\n",
    "    fc1_dropout=tf.nn.dropout(d3,keep_prob)\n",
    "    #Fully Connected Layer 2\n",
    "    d_w4=tf.Variable(tf.truncated_normal([1024,10],stddev=0.2))\n",
    "    d_b4=tf.Variable(tf.constant(0.1,shape=[10]))\n",
    "    y_conv=tf.matmul(fc1_dropout,d_w4)+d_b4\n",
    "    \n",
    "    return y_conv, keep_prob"
   ]
  },
  {
   "cell_type": "code",
   "execution_count": null,
   "metadata": {},
   "outputs": [],
   "source": [
    "#create the model\n",
    "x=tf.placeholder(tf.float32,[None,784])\n",
    "#Defining loss and optimiser\n",
    "y_=tf.placeholder(tf.float32,[None,10])\n",
    "#Building graph\n",
    "y_conv, keep_prob=cnn(x)\n",
    "cross_entropy=tf.reduce_mean(tf.nn.softmax_cross_entropy_with_logits_v2(labels=y_,logits=y_conv))\n",
    "train_step=tf.train.AdamOptimizer(1e-4).minimize(cross_entropy)\n",
    "correct_prediction = tf.equal(tf.argmax(y_conv, 1), tf.argmax(y_, 1))\n",
    "accuracy = tf.reduce_mean(tf.cast(correct_prediction, tf.float32))\n",
    "with tf.Session() as sess:\n",
    "    sess.run(tf.global_variables_initializer())\n",
    "    for i in range(20000):\n",
    "      batch = mnist.train.next_batch(50)\n",
    "      if i % 100 == 0:\n",
    "        train_accuracy = accuracy.eval(feed_dict={\n",
    "            x: batch[0], y_: batch[1], keep_prob: 1.0})\n",
    "        print('step %d, training accuracy %g' % (i, train_accuracy))\n",
    "      train_step.run(feed_dict={x: batch[0], y_: batch[1], keep_prob: 0.5})\n",
    "\n",
    "    print('test accuracy %g' % accuracy.eval(feed_dict={\n",
    "        x: mnist.test.images, y_: mnist.test.labels, keep_prob: 1.0}))"
   ]
  },
  {
   "cell_type": "code",
   "execution_count": null,
   "metadata": {
    "collapsed": true
   },
   "outputs": [],
   "source": []
  }
 ],
 "metadata": {
  "kernelspec": {
   "display_name": "Python 3",
   "language": "python",
   "name": "python3"
  },
  "language_info": {
   "codemirror_mode": {
    "name": "ipython",
    "version": 3
   },
   "file_extension": ".py",
   "mimetype": "text/x-python",
   "name": "python",
   "nbconvert_exporter": "python",
   "pygments_lexer": "ipython3",
   "version": "3.6.1"
  }
 },
 "nbformat": 4,
 "nbformat_minor": 2
}
